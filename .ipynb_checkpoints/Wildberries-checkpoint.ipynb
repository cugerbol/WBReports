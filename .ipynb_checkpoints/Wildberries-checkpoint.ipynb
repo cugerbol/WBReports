{
 "cells": [
  {
   "cell_type": "markdown",
   "id": "fee4c508",
   "metadata": {},
   "source": [
    "## Меню"
   ]
  },
  {
   "cell_type": "markdown",
   "id": "4e8bcc15",
   "metadata": {},
   "source": [
    "### 1. [Аутентификация](#Аутентификация)\n",
    "### 2. [Получить отчет](#Получить-отчет)\n",
    "### 3. [Обновить остатки](#Обновить-остатки)\n",
    "### 4. [Отправь отчет в google sheet](#Отправить-отчет-в-google-sheet)"
   ]
  },
  {
   "cell_type": "markdown",
   "id": "07f95ea6",
   "metadata": {},
   "source": [
    "### Инструкция:\n",
    "#### Видео инструкция [посмотреть]()\n",
    "\n",
    "Для того чтобы программа смогла получить отчет, требуется **войти в личный кабинет продавца WB в браузере Google Chrome**. При первом запуске программы, или же, если требуется обновить данные, вылезет окно с просьбой разрешить операцию. Нажимайте разрешить, иначе программа не сможет получить отчеты из вашего личного кабинета. После того, как вошли в личный кабинет продавца в Google Chrome, следуйте инструкции ниже.\n",
    "\n",
    "1. Выбрать ячейку **Аутентификация** и нажать **запуск**\n",
    "2. Выбрать ячейку **Получить отчет** и нажать **запуск**\n",
    "3. Выбрать ячейку **Обновить остатки** и нажать **запуск**\n",
    "4. Выбрать ячейку **Отправить отчет в google sheet** и нажать **запуск**\n",
    "\n",
    "Так же можете нажать в верхнем меню нажать **Ячейка**, далее выбрать **Запустить все**, вместо по шагового нажатия.\n",
    "\n",
    "При активации ячейки **Получить отчет**, вы можете ввести даты периода в указанном формате, за который выхотите получить отчет. Если вы нажмете два раза **ENTER** на своей клавиатуре, то получите отчет за последнии 21 день."
   ]
  },
  {
   "cell_type": "markdown",
   "id": "82255260",
   "metadata": {},
   "source": [
    "## Аутентификация"
   ]
  },
  {
   "cell_type": "code",
   "execution_count": 3,
   "id": "3a0b50f4",
   "metadata": {},
   "outputs": [
    {
     "name": "stdout",
     "output_type": "stream",
     "text": [
      "[INFO]: Авторизация прошла успешно\n"
     ]
    }
   ],
   "source": [
    "from lib import *\n",
    "from seller import Seller\n",
    "from gs import GoogleSheet\n",
    "from report import Report\n",
    "from warehouse import *\n",
    "\n",
    "%reload_ext autoreload\n",
    "%autoreload 2\n",
    "\n",
    "pd.set_option('display.max_columns', None)\n",
    "\n",
    "seller = Seller()\n",
    "seller.check_cookie()"
   ]
  },
  {
   "cell_type": "markdown",
   "id": "1a6978de",
   "metadata": {},
   "source": [
    "## Получить отчет"
   ]
  },
  {
   "cell_type": "code",
   "execution_count": 6,
   "id": "cad2b361",
   "metadata": {},
   "outputs": [
    {
     "name": "stdout",
     "output_type": "stream",
     "text": [
      "[INFO]: Период: 16.02.2024 - 07.03.2024\n",
      "[INFO]: SELLER_NAME\n",
      "-----------------------------------------------------------------\n",
      "[INFO]: get reports list - 200\n",
      "[INFO]: report id 122967420240307 - report exists\n",
      "[INFO]: report id 122967420240306 - report exists\n",
      "[INFO]: report id 122967420240305 - report exists\n",
      "[INFO]: report id 122967420240304 - report exists\n",
      "[INFO]: report id 122967420240303 - report exists\n",
      "[INFO]: report id 122967420240302 - report exists\n",
      "[INFO]: report id 122967420240301 - report exists\n",
      "[INFO]: report id 122967420240229 - report exists\n",
      "[INFO]: report id 122967420240228 - report exists\n",
      "[INFO]: report id 122967420240227 - report exists\n",
      "-----------------------------------------------------------------\n",
      " >> К перечислению за товар: [agg:698169-rep:698169] = 0\n",
      " >> Стоимость логистики: [agg:193512-rep:193512] = 0\n",
      " >> Стоимость хранения: [agg:22237-rep:22237] = 0\n",
      " >> Итого к оплате: [agg:480079-rep:480079] = 0\n",
      "\n"
     ]
    }
   ],
   "source": [
    "dateFrom = (date.today() - timedelta(days=21)).strftime(\"%d-%m-%Y\").replace(\"-\", \".\")\n",
    "dateTo = (date.today() - timedelta(days=1)).strftime(\"%d-%m-%Y\").replace(\"-\", \".\")\n",
    "\n",
    "report = Report(dateFrom = dateFrom, dateTo = dateTo) \n",
    "report.get_data(sellers = seller)\n",
    "\n",
    "data = report.create_report(check_report = False)\n",
    "print()"
   ]
  },
  {
   "cell_type": "code",
   "execution_count": null,
   "id": "c0bba9ad",
   "metadata": {},
   "outputs": [],
   "source": [
    "table = GoogleSheet(url = seller.configs['googleURL'])\n",
    "cost_price = table.get_cost_price()\n",
    "data = report.add_cost_price(cost_price = cost_price)"
   ]
  },
  {
   "cell_type": "markdown",
   "id": "5ee1a89d",
   "metadata": {},
   "source": [
    "## Обновить остатки"
   ]
  },
  {
   "cell_type": "code",
   "execution_count": 5,
   "id": "ffe4be93",
   "metadata": {},
   "outputs": [
    {
     "name": "stdout",
     "output_type": "stream",
     "text": [
      "[INFO]: получение отчета об остатках - 401 401 401 200\n",
      "[INFO]: Данные загружены в google sheet\n"
     ]
    }
   ],
   "source": [
    "print(\"[INFO]: получение отчета об остатках\", end = \" - \")\n",
    "warehouse = ReportWarehouse()\n",
    "warehouse.get_data(seller = seller)\n",
    "table.export(warehouse.data, sheet_name = \"Остатки\")"
   ]
  },
  {
   "cell_type": "markdown",
   "id": "b37f50c5",
   "metadata": {},
   "source": [
    "## Отправить отчет в google sheet"
   ]
  },
  {
   "cell_type": "code",
   "execution_count": 6,
   "id": "a5ba1db8",
   "metadata": {},
   "outputs": [
    {
     "name": "stdout",
     "output_type": "stream",
     "text": [
      "[INFO]: Данные загружены в google sheet\n",
      "[INFO]: Ссылка на таблицу:\n",
      "https://docs.google.com/spreadsheets/d/17BigP1sCnnUKn1pAft_7mK_ebwqX_9oOfukxaNcfg2o/edit?usp=sharing\n"
     ]
    }
   ],
   "source": [
    "table.export(data, sheet_name = \"Отчет\")\n",
    "print(f\"[INFO]: Ссылка на таблицу:\\n{seller.configs['googleURL']}\")"
   ]
  }
 ],
 "metadata": {
  "kernelspec": {
   "display_name": "Python 3 (ipykernel)",
   "language": "python",
   "name": "python3"
  },
  "language_info": {
   "codemirror_mode": {
    "name": "ipython",
    "version": 3
   },
   "file_extension": ".py",
   "mimetype": "text/x-python",
   "name": "python",
   "nbconvert_exporter": "python",
   "pygments_lexer": "ipython3",
   "version": "3.11.5"
  }
 },
 "nbformat": 4,
 "nbformat_minor": 5
}
